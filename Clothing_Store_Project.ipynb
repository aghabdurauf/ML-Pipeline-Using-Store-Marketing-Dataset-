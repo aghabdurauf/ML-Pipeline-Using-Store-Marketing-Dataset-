{
 "cells": [
  {
   "cell_type": "code",
   "execution_count": 1,
   "metadata": {},
   "outputs": [],
   "source": [
    "import pandas as pd\n",
    "import numpy as np\n",
    "import matplotlib.pyplot as plt\n",
    "%matplotlib inline\n",
    "import seaborn as sns\n",
    "import missingno as msno\n",
    "import warnings\n",
    "warnings.filterwarnings('ignore')"
   ]
  },
  {
   "cell_type": "code",
   "execution_count": 2,
   "metadata": {},
   "outputs": [],
   "source": [
    "df = pd.read_csv('Clothing_Store.csv')"
   ]
  },
  {
   "cell_type": "code",
   "execution_count": 3,
   "metadata": {},
   "outputs": [
    {
     "data": {
      "text/html": [
       "<div>\n",
       "<style scoped>\n",
       "    .dataframe tbody tr th:only-of-type {\n",
       "        vertical-align: middle;\n",
       "    }\n",
       "\n",
       "    .dataframe tbody tr th {\n",
       "        vertical-align: top;\n",
       "    }\n",
       "\n",
       "    .dataframe thead th {\n",
       "        text-align: right;\n",
       "    }\n",
       "</style>\n",
       "<table border=\"1\" class=\"dataframe\">\n",
       "  <thead>\n",
       "    <tr style=\"text-align: right;\">\n",
       "      <th></th>\n",
       "      <th>HHKEY</th>\n",
       "      <th>ZIP_CODE</th>\n",
       "      <th>REC</th>\n",
       "      <th>FRE</th>\n",
       "      <th>MON</th>\n",
       "      <th>CC_CARD</th>\n",
       "      <th>AVRG</th>\n",
       "      <th>PC_CALC20</th>\n",
       "      <th>PSWEATERS</th>\n",
       "      <th>PKNIT_TOPS</th>\n",
       "      <th>...</th>\n",
       "      <th>VALPHON</th>\n",
       "      <th>WEB</th>\n",
       "      <th>MAILED</th>\n",
       "      <th>RESPONDED</th>\n",
       "      <th>RESPONSERATE</th>\n",
       "      <th>HI</th>\n",
       "      <th>LTFREDAY</th>\n",
       "      <th>CLUSTYPE</th>\n",
       "      <th>PERCRET</th>\n",
       "      <th>RESP</th>\n",
       "    </tr>\n",
       "  </thead>\n",
       "  <tbody>\n",
       "    <tr>\n",
       "      <th>0</th>\n",
       "      <td>9.955600e+12</td>\n",
       "      <td>1001</td>\n",
       "      <td>208</td>\n",
       "      <td>2</td>\n",
       "      <td>368.46</td>\n",
       "      <td>0</td>\n",
       "      <td>184.23</td>\n",
       "      <td>11</td>\n",
       "      <td>0.18</td>\n",
       "      <td>0.00</td>\n",
       "      <td>...</td>\n",
       "      <td>N</td>\n",
       "      <td>0</td>\n",
       "      <td>5</td>\n",
       "      <td>0</td>\n",
       "      <td>0.00</td>\n",
       "      <td>31.81</td>\n",
       "      <td>111.00</td>\n",
       "      <td>10</td>\n",
       "      <td>0.00</td>\n",
       "      <td>0</td>\n",
       "    </tr>\n",
       "    <tr>\n",
       "      <th>1</th>\n",
       "      <td>9.955600e+12</td>\n",
       "      <td>1028</td>\n",
       "      <td>6</td>\n",
       "      <td>4</td>\n",
       "      <td>258.00</td>\n",
       "      <td>1</td>\n",
       "      <td>64.50</td>\n",
       "      <td>11</td>\n",
       "      <td>0.26</td>\n",
       "      <td>0.16</td>\n",
       "      <td>...</td>\n",
       "      <td>Y</td>\n",
       "      <td>0</td>\n",
       "      <td>4</td>\n",
       "      <td>2</td>\n",
       "      <td>50.00</td>\n",
       "      <td>32.72</td>\n",
       "      <td>43.50</td>\n",
       "      <td>10</td>\n",
       "      <td>0.03</td>\n",
       "      <td>1</td>\n",
       "    </tr>\n",
       "    <tr>\n",
       "      <th>2</th>\n",
       "      <td>9.955600e+12</td>\n",
       "      <td>1056</td>\n",
       "      <td>327</td>\n",
       "      <td>2</td>\n",
       "      <td>77.00</td>\n",
       "      <td>0</td>\n",
       "      <td>38.50</td>\n",
       "      <td>11</td>\n",
       "      <td>1.00</td>\n",
       "      <td>0.00</td>\n",
       "      <td>...</td>\n",
       "      <td>N</td>\n",
       "      <td>0</td>\n",
       "      <td>4</td>\n",
       "      <td>0</td>\n",
       "      <td>0.00</td>\n",
       "      <td>100.00</td>\n",
       "      <td>68.60</td>\n",
       "      <td>16</td>\n",
       "      <td>0.00</td>\n",
       "      <td>0</td>\n",
       "    </tr>\n",
       "    <tr>\n",
       "      <th>3</th>\n",
       "      <td>9.955600e+12</td>\n",
       "      <td>1118</td>\n",
       "      <td>66</td>\n",
       "      <td>8</td>\n",
       "      <td>846.06</td>\n",
       "      <td>1</td>\n",
       "      <td>105.75</td>\n",
       "      <td>11</td>\n",
       "      <td>0.38</td>\n",
       "      <td>0.00</td>\n",
       "      <td>...</td>\n",
       "      <td>Y</td>\n",
       "      <td>0</td>\n",
       "      <td>9</td>\n",
       "      <td>6</td>\n",
       "      <td>66.67</td>\n",
       "      <td>23.27</td>\n",
       "      <td>26.96</td>\n",
       "      <td>10</td>\n",
       "      <td>0.00</td>\n",
       "      <td>0</td>\n",
       "    </tr>\n",
       "    <tr>\n",
       "      <th>4</th>\n",
       "      <td>9.955600e+12</td>\n",
       "      <td>1107</td>\n",
       "      <td>49</td>\n",
       "      <td>1</td>\n",
       "      <td>87.44</td>\n",
       "      <td>0</td>\n",
       "      <td>87.44</td>\n",
       "      <td>11</td>\n",
       "      <td>0.20</td>\n",
       "      <td>0.20</td>\n",
       "      <td>...</td>\n",
       "      <td>Y</td>\n",
       "      <td>0</td>\n",
       "      <td>0</td>\n",
       "      <td>0</td>\n",
       "      <td>0.00</td>\n",
       "      <td>28.52</td>\n",
       "      <td>24.50</td>\n",
       "      <td>20</td>\n",
       "      <td>0.00</td>\n",
       "      <td>0</td>\n",
       "    </tr>\n",
       "  </tbody>\n",
       "</table>\n",
       "<p>5 rows × 51 columns</p>\n",
       "</div>"
      ],
      "text/plain": [
       "          HHKEY  ZIP_CODE  REC  FRE     MON  CC_CARD    AVRG  PC_CALC20  \\\n",
       "0  9.955600e+12      1001  208    2  368.46        0  184.23         11   \n",
       "1  9.955600e+12      1028    6    4  258.00        1   64.50         11   \n",
       "2  9.955600e+12      1056  327    2   77.00        0   38.50         11   \n",
       "3  9.955600e+12      1118   66    8  846.06        1  105.75         11   \n",
       "4  9.955600e+12      1107   49    1   87.44        0   87.44         11   \n",
       "\n",
       "   PSWEATERS  PKNIT_TOPS  ...  VALPHON  WEB  MAILED  RESPONDED  RESPONSERATE  \\\n",
       "0       0.18        0.00  ...        N    0       5          0          0.00   \n",
       "1       0.26        0.16  ...        Y    0       4          2         50.00   \n",
       "2       1.00        0.00  ...        N    0       4          0          0.00   \n",
       "3       0.38        0.00  ...        Y    0       9          6         66.67   \n",
       "4       0.20        0.20  ...        Y    0       0          0          0.00   \n",
       "\n",
       "       HI  LTFREDAY  CLUSTYPE  PERCRET  RESP  \n",
       "0   31.81    111.00        10     0.00     0  \n",
       "1   32.72     43.50        10     0.03     1  \n",
       "2  100.00     68.60        16     0.00     0  \n",
       "3   23.27     26.96        10     0.00     0  \n",
       "4   28.52     24.50        20     0.00     0  \n",
       "\n",
       "[5 rows x 51 columns]"
      ]
     },
     "execution_count": 3,
     "metadata": {},
     "output_type": "execute_result"
    }
   ],
   "source": [
    "df.head()"
   ]
  },
  {
   "cell_type": "code",
   "execution_count": 4,
   "metadata": {},
   "outputs": [
    {
     "data": {
      "text/plain": [
       "(21740, 51)"
      ]
     },
     "execution_count": 4,
     "metadata": {},
     "output_type": "execute_result"
    }
   ],
   "source": [
    "df.shape"
   ]
  },
  {
   "cell_type": "code",
   "execution_count": 5,
   "metadata": {},
   "outputs": [
    {
     "data": {
      "text/plain": [
       "HHKEY           0\n",
       "ZIP_CODE        0\n",
       "REC             0\n",
       "FRE             0\n",
       "MON             0\n",
       "CC_CARD         0\n",
       "AVRG            0\n",
       "PC_CALC20       0\n",
       "PSWEATERS       0\n",
       "PKNIT_TOPS      0\n",
       "PKNIT_DRES      0\n",
       "PBLOUSES        0\n",
       "PJACKETS        0\n",
       "PCAR_PNTS       0\n",
       "PCAS_PNTS       0\n",
       "PSHIRTS         0\n",
       "PDRESSES        0\n",
       "PSUITS          0\n",
       "POUTERWEAR      0\n",
       "PJEWELRY        0\n",
       "PFASHION        0\n",
       "PLEGWEAR        0\n",
       "PCOLLSPND       0\n",
       "AMSPEND         0\n",
       "PSSPEND         0\n",
       "CCSPEND         0\n",
       "AXSPEND         0\n",
       "TMONSPEND       0\n",
       "OMONSPEND       0\n",
       "SMONSPEND       0\n",
       "PREVPD          0\n",
       "GMP             0\n",
       "PROMOS          0\n",
       "DAYS            0\n",
       "FREDAYS         0\n",
       "MARKDOWN        0\n",
       "CLASSES         0\n",
       "COUPONS         0\n",
       "STYLES          0\n",
       "STORES          0\n",
       "STORELOY        0\n",
       "VALPHON         0\n",
       "WEB             0\n",
       "MAILED          0\n",
       "RESPONDED       0\n",
       "RESPONSERATE    0\n",
       "HI              0\n",
       "LTFREDAY        0\n",
       "CLUSTYPE        0\n",
       "PERCRET         0\n",
       "RESP            0\n",
       "dtype: int64"
      ]
     },
     "execution_count": 5,
     "metadata": {},
     "output_type": "execute_result"
    }
   ],
   "source": [
    "df.isnull().sum()"
   ]
  },
  {
   "cell_type": "markdown",
   "metadata": {},
   "source": [
    "There is no null values in dataset"
   ]
  },
  {
   "cell_type": "code",
   "execution_count": 6,
   "metadata": {},
   "outputs": [
    {
     "data": {
      "text/plain": [
       "HHKEY           float64\n",
       "ZIP_CODE          int64\n",
       "REC               int64\n",
       "FRE               int64\n",
       "MON             float64\n",
       "CC_CARD           int64\n",
       "AVRG            float64\n",
       "PC_CALC20         int64\n",
       "PSWEATERS       float64\n",
       "PKNIT_TOPS      float64\n",
       "PKNIT_DRES      float64\n",
       "PBLOUSES        float64\n",
       "PJACKETS        float64\n",
       "PCAR_PNTS       float64\n",
       "PCAS_PNTS       float64\n",
       "PSHIRTS         float64\n",
       "PDRESSES        float64\n",
       "PSUITS          float64\n",
       "POUTERWEAR      float64\n",
       "PJEWELRY        float64\n",
       "PFASHION        float64\n",
       "PLEGWEAR        float64\n",
       "PCOLLSPND       float64\n",
       "AMSPEND         float64\n",
       "PSSPEND         float64\n",
       "CCSPEND         float64\n",
       "AXSPEND         float64\n",
       "TMONSPEND       float64\n",
       "OMONSPEND       float64\n",
       "SMONSPEND       float64\n",
       "PREVPD          float64\n",
       "GMP             float64\n",
       "PROMOS            int64\n",
       "DAYS              int64\n",
       "FREDAYS         float64\n",
       "MARKDOWN        float64\n",
       "CLASSES           int64\n",
       "COUPONS           int64\n",
       "STYLES            int64\n",
       "STORES            int64\n",
       "STORELOY          int64\n",
       "VALPHON          object\n",
       "WEB               int64\n",
       "MAILED            int64\n",
       "RESPONDED         int64\n",
       "RESPONSERATE    float64\n",
       "HI              float64\n",
       "LTFREDAY        float64\n",
       "CLUSTYPE          int64\n",
       "PERCRET         float64\n",
       "RESP              int64\n",
       "dtype: object"
      ]
     },
     "execution_count": 6,
     "metadata": {},
     "output_type": "execute_result"
    }
   ],
   "source": [
    "df.dtypes"
   ]
  },
  {
   "cell_type": "code",
   "execution_count": 7,
   "metadata": {},
   "outputs": [
    {
     "data": {
      "text/html": [
       "<div>\n",
       "<style scoped>\n",
       "    .dataframe tbody tr th:only-of-type {\n",
       "        vertical-align: middle;\n",
       "    }\n",
       "\n",
       "    .dataframe tbody tr th {\n",
       "        vertical-align: top;\n",
       "    }\n",
       "\n",
       "    .dataframe thead th {\n",
       "        text-align: right;\n",
       "    }\n",
       "</style>\n",
       "<table border=\"1\" class=\"dataframe\">\n",
       "  <thead>\n",
       "    <tr style=\"text-align: right;\">\n",
       "      <th></th>\n",
       "      <th>HHKEY</th>\n",
       "      <th>ZIP_CODE</th>\n",
       "      <th>REC</th>\n",
       "      <th>FRE</th>\n",
       "      <th>MON</th>\n",
       "      <th>CC_CARD</th>\n",
       "      <th>AVRG</th>\n",
       "      <th>PC_CALC20</th>\n",
       "      <th>PSWEATERS</th>\n",
       "      <th>PKNIT_TOPS</th>\n",
       "      <th>...</th>\n",
       "      <th>STORELOY</th>\n",
       "      <th>WEB</th>\n",
       "      <th>MAILED</th>\n",
       "      <th>RESPONDED</th>\n",
       "      <th>RESPONSERATE</th>\n",
       "      <th>HI</th>\n",
       "      <th>LTFREDAY</th>\n",
       "      <th>CLUSTYPE</th>\n",
       "      <th>PERCRET</th>\n",
       "      <th>RESP</th>\n",
       "    </tr>\n",
       "  </thead>\n",
       "  <tbody>\n",
       "    <tr>\n",
       "      <th>count</th>\n",
       "      <td>2.174000e+04</td>\n",
       "      <td>21740.000000</td>\n",
       "      <td>21740.000000</td>\n",
       "      <td>21740.000000</td>\n",
       "      <td>21740.000000</td>\n",
       "      <td>21740.000000</td>\n",
       "      <td>21740.000000</td>\n",
       "      <td>21740.000000</td>\n",
       "      <td>21740.000000</td>\n",
       "      <td>21740.000000</td>\n",
       "      <td>...</td>\n",
       "      <td>21740.00000</td>\n",
       "      <td>21740.000000</td>\n",
       "      <td>21740.000000</td>\n",
       "      <td>21740.000000</td>\n",
       "      <td>21740.000000</td>\n",
       "      <td>21740.000000</td>\n",
       "      <td>21740.000000</td>\n",
       "      <td>21740.000000</td>\n",
       "      <td>21740.000000</td>\n",
       "      <td>21740.000000</td>\n",
       "    </tr>\n",
       "    <tr>\n",
       "      <th>mean</th>\n",
       "      <td>9.955672e+12</td>\n",
       "      <td>48935.216007</td>\n",
       "      <td>126.966329</td>\n",
       "      <td>5.064213</td>\n",
       "      <td>472.888236</td>\n",
       "      <td>0.383763</td>\n",
       "      <td>113.889105</td>\n",
       "      <td>12.571803</td>\n",
       "      <td>0.213665</td>\n",
       "      <td>0.027163</td>\n",
       "      <td>...</td>\n",
       "      <td>2116.28988</td>\n",
       "      <td>0.041536</td>\n",
       "      <td>4.672723</td>\n",
       "      <td>1.193606</td>\n",
       "      <td>17.276674</td>\n",
       "      <td>37.888989</td>\n",
       "      <td>80.240028</td>\n",
       "      <td>15.106670</td>\n",
       "      <td>0.130584</td>\n",
       "      <td>0.166099</td>\n",
       "    </tr>\n",
       "    <tr>\n",
       "      <th>std</th>\n",
       "      <td>5.195574e+08</td>\n",
       "      <td>24086.448839</td>\n",
       "      <td>104.737712</td>\n",
       "      <td>6.420276</td>\n",
       "      <td>640.050799</td>\n",
       "      <td>0.486312</td>\n",
       "      <td>87.249794</td>\n",
       "      <td>2.461413</td>\n",
       "      <td>0.230224</td>\n",
       "      <td>0.068648</td>\n",
       "      <td>...</td>\n",
       "      <td>1806.10523</td>\n",
       "      <td>0.199532</td>\n",
       "      <td>3.547191</td>\n",
       "      <td>1.828949</td>\n",
       "      <td>24.543108</td>\n",
       "      <td>28.149856</td>\n",
       "      <td>78.730265</td>\n",
       "      <td>12.214348</td>\n",
       "      <td>0.556766</td>\n",
       "      <td>0.372178</td>\n",
       "    </tr>\n",
       "    <tr>\n",
       "      <th>min</th>\n",
       "      <td>9.955600e+12</td>\n",
       "      <td>0.000000</td>\n",
       "      <td>1.000000</td>\n",
       "      <td>1.000000</td>\n",
       "      <td>0.990000</td>\n",
       "      <td>0.000000</td>\n",
       "      <td>0.490000</td>\n",
       "      <td>11.000000</td>\n",
       "      <td>0.000000</td>\n",
       "      <td>0.000000</td>\n",
       "      <td>...</td>\n",
       "      <td>3.00000</td>\n",
       "      <td>0.000000</td>\n",
       "      <td>0.000000</td>\n",
       "      <td>0.000000</td>\n",
       "      <td>0.000000</td>\n",
       "      <td>0.050000</td>\n",
       "      <td>0.090000</td>\n",
       "      <td>0.000000</td>\n",
       "      <td>0.000000</td>\n",
       "      <td>0.000000</td>\n",
       "    </tr>\n",
       "    <tr>\n",
       "      <th>25%</th>\n",
       "      <td>9.955620e+12</td>\n",
       "      <td>30339.000000</td>\n",
       "      <td>35.000000</td>\n",
       "      <td>1.000000</td>\n",
       "      <td>135.605000</td>\n",
       "      <td>0.000000</td>\n",
       "      <td>60.990000</td>\n",
       "      <td>11.000000</td>\n",
       "      <td>0.000000</td>\n",
       "      <td>0.000000</td>\n",
       "      <td>...</td>\n",
       "      <td>337.00000</td>\n",
       "      <td>0.000000</td>\n",
       "      <td>1.000000</td>\n",
       "      <td>0.000000</td>\n",
       "      <td>0.000000</td>\n",
       "      <td>18.410000</td>\n",
       "      <td>24.957500</td>\n",
       "      <td>5.000000</td>\n",
       "      <td>0.000000</td>\n",
       "      <td>0.000000</td>\n",
       "    </tr>\n",
       "    <tr>\n",
       "      <th>50%</th>\n",
       "      <td>9.955630e+12</td>\n",
       "      <td>48335.000000</td>\n",
       "      <td>98.000000</td>\n",
       "      <td>3.000000</td>\n",
       "      <td>263.490000</td>\n",
       "      <td>0.000000</td>\n",
       "      <td>92.070000</td>\n",
       "      <td>11.000000</td>\n",
       "      <td>0.160000</td>\n",
       "      <td>0.000000</td>\n",
       "      <td>...</td>\n",
       "      <td>1670.00000</td>\n",
       "      <td>0.000000</td>\n",
       "      <td>4.000000</td>\n",
       "      <td>0.000000</td>\n",
       "      <td>0.000000</td>\n",
       "      <td>29.520000</td>\n",
       "      <td>52.000000</td>\n",
       "      <td>11.000000</td>\n",
       "      <td>0.000000</td>\n",
       "      <td>0.000000</td>\n",
       "    </tr>\n",
       "    <tr>\n",
       "      <th>75%</th>\n",
       "      <td>9.955640e+12</td>\n",
       "      <td>66707.000000</td>\n",
       "      <td>206.000000</td>\n",
       "      <td>6.000000</td>\n",
       "      <td>569.000000</td>\n",
       "      <td>1.000000</td>\n",
       "      <td>139.505000</td>\n",
       "      <td>16.000000</td>\n",
       "      <td>0.310000</td>\n",
       "      <td>0.030000</td>\n",
       "      <td>...</td>\n",
       "      <td>4176.00000</td>\n",
       "      <td>0.000000</td>\n",
       "      <td>8.000000</td>\n",
       "      <td>2.000000</td>\n",
       "      <td>30.000000</td>\n",
       "      <td>50.000000</td>\n",
       "      <td>107.000000</td>\n",
       "      <td>22.000000</td>\n",
       "      <td>0.090000</td>\n",
       "      <td>0.000000</td>\n",
       "    </tr>\n",
       "    <tr>\n",
       "      <th>max</th>\n",
       "      <td>9.964400e+12</td>\n",
       "      <td>99687.000000</td>\n",
       "      <td>365.000000</td>\n",
       "      <td>115.000000</td>\n",
       "      <td>22511.490000</td>\n",
       "      <td>1.000000</td>\n",
       "      <td>1919.880000</td>\n",
       "      <td>19.000000</td>\n",
       "      <td>1.000000</td>\n",
       "      <td>1.000000</td>\n",
       "      <td>...</td>\n",
       "      <td>7504.00000</td>\n",
       "      <td>1.000000</td>\n",
       "      <td>11.000000</td>\n",
       "      <td>11.000000</td>\n",
       "      <td>100.000000</td>\n",
       "      <td>200.000000</td>\n",
       "      <td>364.000000</td>\n",
       "      <td>50.000000</td>\n",
       "      <td>40.920000</td>\n",
       "      <td>1.000000</td>\n",
       "    </tr>\n",
       "  </tbody>\n",
       "</table>\n",
       "<p>8 rows × 50 columns</p>\n",
       "</div>"
      ],
      "text/plain": [
       "              HHKEY      ZIP_CODE           REC           FRE           MON  \\\n",
       "count  2.174000e+04  21740.000000  21740.000000  21740.000000  21740.000000   \n",
       "mean   9.955672e+12  48935.216007    126.966329      5.064213    472.888236   \n",
       "std    5.195574e+08  24086.448839    104.737712      6.420276    640.050799   \n",
       "min    9.955600e+12      0.000000      1.000000      1.000000      0.990000   \n",
       "25%    9.955620e+12  30339.000000     35.000000      1.000000    135.605000   \n",
       "50%    9.955630e+12  48335.000000     98.000000      3.000000    263.490000   \n",
       "75%    9.955640e+12  66707.000000    206.000000      6.000000    569.000000   \n",
       "max    9.964400e+12  99687.000000    365.000000    115.000000  22511.490000   \n",
       "\n",
       "            CC_CARD          AVRG     PC_CALC20     PSWEATERS    PKNIT_TOPS  \\\n",
       "count  21740.000000  21740.000000  21740.000000  21740.000000  21740.000000   \n",
       "mean       0.383763    113.889105     12.571803      0.213665      0.027163   \n",
       "std        0.486312     87.249794      2.461413      0.230224      0.068648   \n",
       "min        0.000000      0.490000     11.000000      0.000000      0.000000   \n",
       "25%        0.000000     60.990000     11.000000      0.000000      0.000000   \n",
       "50%        0.000000     92.070000     11.000000      0.160000      0.000000   \n",
       "75%        1.000000    139.505000     16.000000      0.310000      0.030000   \n",
       "max        1.000000   1919.880000     19.000000      1.000000      1.000000   \n",
       "\n",
       "       ...     STORELOY           WEB        MAILED     RESPONDED  \\\n",
       "count  ...  21740.00000  21740.000000  21740.000000  21740.000000   \n",
       "mean   ...   2116.28988      0.041536      4.672723      1.193606   \n",
       "std    ...   1806.10523      0.199532      3.547191      1.828949   \n",
       "min    ...      3.00000      0.000000      0.000000      0.000000   \n",
       "25%    ...    337.00000      0.000000      1.000000      0.000000   \n",
       "50%    ...   1670.00000      0.000000      4.000000      0.000000   \n",
       "75%    ...   4176.00000      0.000000      8.000000      2.000000   \n",
       "max    ...   7504.00000      1.000000     11.000000     11.000000   \n",
       "\n",
       "       RESPONSERATE            HI      LTFREDAY      CLUSTYPE       PERCRET  \\\n",
       "count  21740.000000  21740.000000  21740.000000  21740.000000  21740.000000   \n",
       "mean      17.276674     37.888989     80.240028     15.106670      0.130584   \n",
       "std       24.543108     28.149856     78.730265     12.214348      0.556766   \n",
       "min        0.000000      0.050000      0.090000      0.000000      0.000000   \n",
       "25%        0.000000     18.410000     24.957500      5.000000      0.000000   \n",
       "50%        0.000000     29.520000     52.000000     11.000000      0.000000   \n",
       "75%       30.000000     50.000000    107.000000     22.000000      0.090000   \n",
       "max      100.000000    200.000000    364.000000     50.000000     40.920000   \n",
       "\n",
       "               RESP  \n",
       "count  21740.000000  \n",
       "mean       0.166099  \n",
       "std        0.372178  \n",
       "min        0.000000  \n",
       "25%        0.000000  \n",
       "50%        0.000000  \n",
       "75%        0.000000  \n",
       "max        1.000000  \n",
       "\n",
       "[8 rows x 50 columns]"
      ]
     },
     "execution_count": 7,
     "metadata": {},
     "output_type": "execute_result"
    }
   ],
   "source": [
    "df.describe()"
   ]
  },
  {
   "cell_type": "code",
   "execution_count": 7,
   "metadata": {},
   "outputs": [
    {
     "data": {
      "text/plain": [
       "<matplotlib.axes._subplots.AxesSubplot at 0x23835b75320>"
      ]
     },
     "execution_count": 7,
     "metadata": {},
     "output_type": "execute_result"
    },
    {
     "data": {
      "image/png": "[encoded data removed]",
      "text/plain": [
       "<Figure size 432x288 with 2 Axes>"
      ]
     },
     "metadata": {
      "needs_background": "light"
     },
     "output_type": "display_data"
    }
   ],
   "source": [
    "sns.heatmap(df.isnull())"
   ]
  },
  {
   "cell_type": "code",
   "execution_count": 9,
   "metadata": {},
   "outputs": [
    {
     "name": "stdout",
     "output_type": "stream",
     "text": [
      "<class 'pandas.core.frame.DataFrame'>\n",
      "RangeIndex: 21740 entries, 0 to 21739\n",
      "Data columns (total 51 columns):\n",
      "HHKEY           21740 non-null float64\n",
      "ZIP_CODE        21740 non-null int64\n",
      "REC             21740 non-null int64\n",
      "FRE             21740 non-null int64\n",
      "MON             21740 non-null float64\n",
      "CC_CARD         21740 non-null int64\n",
      "AVRG            21740 non-null float64\n",
      "PC_CALC20       21740 non-null int64\n",
      "PSWEATERS       21740 non-null float64\n",
      "PKNIT_TOPS      21740 non-null float64\n",
      "PKNIT_DRES      21740 non-null float64\n",
      "PBLOUSES        21740 non-null float64\n",
      "PJACKETS        21740 non-null float64\n",
      "PCAR_PNTS       21740 non-null float64\n",
      "PCAS_PNTS       21740 non-null float64\n",
      "PSHIRTS         21740 non-null float64\n",
      "PDRESSES        21740 non-null float64\n",
      "PSUITS          21740 non-null float64\n",
      "POUTERWEAR      21740 non-null float64\n",
      "PJEWELRY        21740 non-null float64\n",
      "PFASHION        21740 non-null float64\n",
      "PLEGWEAR        21740 non-null float64\n",
      "PCOLLSPND       21740 non-null float64\n",
      "AMSPEND         21740 non-null float64\n",
      "PSSPEND         21740 non-null float64\n",
      "CCSPEND         21740 non-null float64\n",
      "AXSPEND         21740 non-null float64\n",
      "TMONSPEND       21740 non-null float64\n",
      "OMONSPEND       21740 non-null float64\n",
      "SMONSPEND       21740 non-null float64\n",
      "PREVPD          21740 non-null float64\n",
      "GMP             21740 non-null float64\n",
      "PROMOS          21740 non-null int64\n",
      "DAYS            21740 non-null int64\n",
      "FREDAYS         21740 non-null float64\n",
      "MARKDOWN        21740 non-null float64\n",
      "CLASSES         21740 non-null int64\n",
      "COUPONS         21740 non-null int64\n",
      "STYLES          21740 non-null int64\n",
      "STORES          21740 non-null int64\n",
      "STORELOY        21740 non-null int64\n",
      "VALPHON         21740 non-null object\n",
      "WEB             21740 non-null int64\n",
      "MAILED          21740 non-null int64\n",
      "RESPONDED       21740 non-null int64\n",
      "RESPONSERATE    21740 non-null float64\n",
      "HI              21740 non-null float64\n",
      "LTFREDAY        21740 non-null float64\n",
      "CLUSTYPE        21740 non-null int64\n",
      "PERCRET         21740 non-null float64\n",
      "RESP            21740 non-null int64\n",
      "dtypes: float64(33), int64(17), object(1)\n",
      "memory usage: 8.5+ MB\n"
     ]
    }
   ],
   "source": [
    "df.info()"
   ]
  },
  {
   "cell_type": "markdown",
   "metadata": {},
   "source": [
    "# EDA"
   ]
  },
  {
   "cell_type": "code",
   "execution_count": 8,
   "metadata": {},
   "outputs": [
    {
     "data": {
      "text/plain": [
       "(21740, 51)"
      ]
     },
     "execution_count": 8,
     "metadata": {},
     "output_type": "execute_result"
    }
   ],
   "source": [
    "df.shape"
   ]
  },
  {
   "cell_type": "code",
   "execution_count": 9,
   "metadata": {
    "scrolled": true
   },
   "outputs": [],
   "source": [
    "df = df.drop(['HHKEY','ZIP_CODE'], axis=1)"
   ]
  },
  {
   "cell_type": "code",
   "execution_count": 10,
   "metadata": {},
   "outputs": [],
   "source": [
    "df['VALPHON'] = df['VALPHON'].replace('Y', 1)\n",
    "df['VALPHON'] = df['VALPHON'].replace('N', 0)"
   ]
  },
  {
   "cell_type": "code",
   "execution_count": 11,
   "metadata": {},
   "outputs": [],
   "source": [
    "#Calculating the response rate of the customers"
   ]
  },
  {
   "cell_type": "code",
   "execution_count": 12,
   "metadata": {},
   "outputs": [
    {
     "data": {
      "text/html": [
       "<div>\n",
       "<style scoped>\n",
       "    .dataframe tbody tr th:only-of-type {\n",
       "        vertical-align: middle;\n",
       "    }\n",
       "\n",
       "    .dataframe tbody tr th {\n",
       "        vertical-align: top;\n",
       "    }\n",
       "\n",
       "    .dataframe thead th {\n",
       "        text-align: right;\n",
       "    }\n",
       "</style>\n",
       "<table border=\"1\" class=\"dataframe\">\n",
       "  <thead>\n",
       "    <tr style=\"text-align: right;\">\n",
       "      <th></th>\n",
       "      <th>REC</th>\n",
       "      <th>FRE</th>\n",
       "      <th>MON</th>\n",
       "      <th>CC_CARD</th>\n",
       "      <th>AVRG</th>\n",
       "      <th>PC_CALC20</th>\n",
       "      <th>PSWEATERS</th>\n",
       "      <th>PKNIT_TOPS</th>\n",
       "      <th>PKNIT_DRES</th>\n",
       "      <th>PBLOUSES</th>\n",
       "      <th>...</th>\n",
       "      <th>STORELOY</th>\n",
       "      <th>VALPHON</th>\n",
       "      <th>WEB</th>\n",
       "      <th>MAILED</th>\n",
       "      <th>RESPONDED</th>\n",
       "      <th>RESPONSERATE</th>\n",
       "      <th>HI</th>\n",
       "      <th>LTFREDAY</th>\n",
       "      <th>CLUSTYPE</th>\n",
       "      <th>PERCRET</th>\n",
       "    </tr>\n",
       "    <tr>\n",
       "      <th>RESP</th>\n",
       "      <th></th>\n",
       "      <th></th>\n",
       "      <th></th>\n",
       "      <th></th>\n",
       "      <th></th>\n",
       "      <th></th>\n",
       "      <th></th>\n",
       "      <th></th>\n",
       "      <th></th>\n",
       "      <th></th>\n",
       "      <th></th>\n",
       "      <th></th>\n",
       "      <th></th>\n",
       "      <th></th>\n",
       "      <th></th>\n",
       "      <th></th>\n",
       "      <th></th>\n",
       "      <th></th>\n",
       "      <th></th>\n",
       "      <th></th>\n",
       "      <th></th>\n",
       "    </tr>\n",
       "  </thead>\n",
       "  <tbody>\n",
       "    <tr>\n",
       "      <th>0</th>\n",
       "      <td>139.355397</td>\n",
       "      <td>3.896299</td>\n",
       "      <td>380.680772</td>\n",
       "      <td>0.331403</td>\n",
       "      <td>116.516259</td>\n",
       "      <td>12.469083</td>\n",
       "      <td>0.216763</td>\n",
       "      <td>0.027096</td>\n",
       "      <td>0.041450</td>\n",
       "      <td>0.094586</td>\n",
       "      <td>...</td>\n",
       "      <td>2088.646919</td>\n",
       "      <td>0.843400</td>\n",
       "      <td>0.027304</td>\n",
       "      <td>4.343207</td>\n",
       "      <td>0.907441</td>\n",
       "      <td>13.646090</td>\n",
       "      <td>40.780777</td>\n",
       "      <td>91.033661</td>\n",
       "      <td>15.160351</td>\n",
       "      <td>0.109438</td>\n",
       "    </tr>\n",
       "    <tr>\n",
       "      <th>1</th>\n",
       "      <td>64.767101</td>\n",
       "      <td>10.927721</td>\n",
       "      <td>935.815159</td>\n",
       "      <td>0.646635</td>\n",
       "      <td>100.699499</td>\n",
       "      <td>13.087510</td>\n",
       "      <td>0.198114</td>\n",
       "      <td>0.027503</td>\n",
       "      <td>0.040515</td>\n",
       "      <td>0.087941</td>\n",
       "      <td>...</td>\n",
       "      <td>2255.071171</td>\n",
       "      <td>0.940737</td>\n",
       "      <td>0.112988</td>\n",
       "      <td>6.327056</td>\n",
       "      <td>2.630296</td>\n",
       "      <td>35.503993</td>\n",
       "      <td>23.370786</td>\n",
       "      <td>26.050667</td>\n",
       "      <td>14.837164</td>\n",
       "      <td>0.236745</td>\n",
       "    </tr>\n",
       "  </tbody>\n",
       "</table>\n",
       "<p>2 rows × 48 columns</p>\n",
       "</div>"
      ],
      "text/plain": [
       "             REC        FRE         MON   CC_CARD        AVRG  PC_CALC20  \\\n",
       "RESP                                                                       \n",
       "0     139.355397   3.896299  380.680772  0.331403  116.516259  12.469083   \n",
       "1      64.767101  10.927721  935.815159  0.646635  100.699499  13.087510   \n",
       "\n",
       "      PSWEATERS  PKNIT_TOPS  PKNIT_DRES  PBLOUSES  ...     STORELOY   VALPHON  \\\n",
       "RESP                                               ...                          \n",
       "0      0.216763    0.027096    0.041450  0.094586  ...  2088.646919  0.843400   \n",
       "1      0.198114    0.027503    0.040515  0.087941  ...  2255.071171  0.940737   \n",
       "\n",
       "           WEB    MAILED  RESPONDED  RESPONSERATE         HI   LTFREDAY  \\\n",
       "RESP                                                                      \n",
       "0     0.027304  4.343207   0.907441     13.646090  40.780777  91.033661   \n",
       "1     0.112988  6.327056   2.630296     35.503993  23.370786  26.050667   \n",
       "\n",
       "       CLUSTYPE   PERCRET  \n",
       "RESP                       \n",
       "0     15.160351  0.109438  \n",
       "1     14.837164  0.236745  \n",
       "\n",
       "[2 rows x 48 columns]"
      ]
     },
     "execution_count": 12,
     "metadata": {},
     "output_type": "execute_result"
    }
   ],
   "source": [
    "Response_Summary = df.groupby('RESP')\n",
    "Response_Summary.mean()"
   ]
  },
  {
   "cell_type": "markdown",
   "metadata": {},
   "source": [
    "# Correlationship Matrix"
   ]
  },
  {
   "cell_type": "code",
   "execution_count": 13,
   "metadata": {},
   "outputs": [
    {
     "ename": "NameError",
     "evalue": "name 'corr' is not defined",
     "output_type": "error",
     "traceback": [
      "\u001b[1;31m---------------------------------------------------------------------------\u001b[0m",
      "\u001b[1;31mNameError\u001b[0m                                 Traceback (most recent call last)",
      "\u001b[1;32m<ipython-input-13-f721ee891a7a>\u001b[0m in \u001b[0;36m<module>\u001b[1;34m\u001b[0m\n\u001b[0;32m      4\u001b[0m \u001b[1;33m\u001b[0m\u001b[0m\n\u001b[0;32m      5\u001b[0m \u001b[0mplt\u001b[0m\u001b[1;33m.\u001b[0m\u001b[0msubplots\u001b[0m\u001b[1;33m(\u001b[0m\u001b[0mfigsize\u001b[0m\u001b[1;33m=\u001b[0m\u001b[1;33m(\u001b[0m\u001b[1;36m20\u001b[0m\u001b[1;33m,\u001b[0m\u001b[1;36m15\u001b[0m\u001b[1;33m)\u001b[0m\u001b[1;33m)\u001b[0m\u001b[1;33m\u001b[0m\u001b[1;33m\u001b[0m\u001b[0m\n\u001b[1;32m----> 6\u001b[1;33m \u001b[0msns\u001b[0m\u001b[1;33m.\u001b[0m\u001b[0mheatmap\u001b[0m\u001b[1;33m(\u001b[0m\u001b[0mcorr\u001b[0m\u001b[1;33m)\u001b[0m\u001b[1;33m\u001b[0m\u001b[1;33m\u001b[0m\u001b[0m\n\u001b[0m",
      "\u001b[1;31mNameError\u001b[0m: name 'corr' is not defined"
     ]
    },
    {
     "data": {
      "image/png": "[encoded data removed]",
      "text/plain": [
       "<Figure size 1440x1080 with 1 Axes>"
      ]
     },
     "metadata": {
      "needs_background": "light"
     },
     "output_type": "display_data"
    }
   ],
   "source": [
    "'''corr = df.corr()\n",
    "sns.heatmap(corr, xticklabels=corr.columns.values, yticklabels=corr.columns.values, figsize = (20,30))\n",
    "plt.title('Heatmap of Correlation Matrix')'''\n",
    "\n",
    "plt.subplots(figsize=(20,15))\n",
    "sns.heatmap(corr)"
   ]
  },
  {
   "cell_type": "code",
   "execution_count": 14,
   "metadata": {},
   "outputs": [
    {
     "data": {
      "text/plain": [
       "Text(0, 0.5, 'Count')"
      ]
     },
     "execution_count": 14,
     "metadata": {},
     "output_type": "execute_result"
    },
    {
     "data": {
      "image/png": "[encoded data removed]",
      "text/plain": [
       "<Figure size 1080x432 with 2 Axes>"
      ]
     },
     "metadata": {
      "needs_background": "light"
     },
     "output_type": "display_data"
    }
   ],
   "source": [
    "\n",
    "f, axes = plt.subplots(ncols=2, figsize=(15, 6))\n",
    "\n",
    "sns.distplot(df.MON, kde=False, color=\"orange\", ax=axes[0]).set_title('Total Sales Distribution')\n",
    "axes[0].set_ylabel('Count')\n",
    "\n",
    "sns.distplot(df.AVRG, kde=False, color=\"purple\", ax=axes[1]).set_title('Average Sales Distribution')\n",
    "axes[1].set_ylabel('Count')\n"
   ]
  },
  {
   "cell_type": "code",
   "execution_count": 15,
   "metadata": {},
   "outputs": [
    {
     "data": {
      "text/plain": [
       "<matplotlib.axes._subplots.AxesSubplot at 0x23836374160>"
      ]
     },
     "execution_count": 15,
     "metadata": {},
     "output_type": "execute_result"
    },
    {
     "data": {
      "image/png": "[encoded data removed]",
      "text/plain": [
       "<Figure size 432x288 with 1 Axes>"
      ]
     },
     "metadata": {
      "needs_background": "light"
     },
     "output_type": "display_data"
    }
   ],
   "source": [
    "sns.scatterplot(x=\"MON\", y=\"COUPONS\", hue=\"RESP\", data=df,palette='Set1')"
   ]
  },
  {
   "cell_type": "code",
   "execution_count": 16,
   "metadata": {},
   "outputs": [
    {
     "data": {
      "text/plain": [
       "<matplotlib.axes._subplots.AxesSubplot at 0x23837cb24a8>"
      ]
     },
     "execution_count": 16,
     "metadata": {},
     "output_type": "execute_result"
    },
    {
     "data": {
      "image/png": "[encoded data removed]",
      "text/plain": [
       "<Figure size 432x288 with 1 Axes>"
      ]
     },
     "metadata": {
      "needs_background": "light"
     },
     "output_type": "display_data"
    }
   ],
   "source": [
    "sns.scatterplot(x=\"MON\", y=\"GMP\", hue=\"RESP\", data=df,palette='Set2')"
   ]
  },
  {
   "cell_type": "code",
   "execution_count": 17,
   "metadata": {},
   "outputs": [
    {
     "data": {
      "text/plain": [
       "Text(0.5, 1.0, 'Number of coupons used by the customer - Response V.S. No Response')"
      ]
     },
     "execution_count": 17,
     "metadata": {},
     "output_type": "execute_result"
    },
    {
     "data": {
      "image/png": "[encoded data removed]",
      "text/plain": [
       "<Figure size 1080x288 with 1 Axes>"
      ]
     },
     "metadata": {
      "needs_background": "light"
     },
     "output_type": "display_data"
    }
   ],
   "source": [
    "fig = plt.figure(figsize=(15,4))\n",
    "ax=sns.kdeplot(df.loc[(df['RESP'] == 0),'COUPONS'] , color='b',shade=True, label='no respnse')\n",
    "ax=sns.kdeplot(df.loc[(df['RESP'] == 1),'COUPONS'] , color='r',shade=True, label='response')\n",
    "ax.set(xlabel='Coupons Used by Customers', ylabel='Frequency')\n",
    "plt.title('Number of coupons used by the customer - Response V.S. No Response')"
   ]
  },
  {
   "cell_type": "markdown",
   "metadata": {},
   "source": [
    "# Feature Selection"
   ]
  },
  {
   "cell_type": "markdown",
   "metadata": {},
   "source": [
    "# Logistic Regression Feature Selection"
   ]
  },
  {
   "cell_type": "code",
   "execution_count": 18,
   "metadata": {},
   "outputs": [],
   "source": [
    "df_new_var=df.columns.values.tolist()\n",
    "y=['RESP']\n",
    "X=[i for i in df_new_var if i not in y]"
   ]
  },
  {
   "cell_type": "code",
   "execution_count": 21,
   "metadata": {},
   "outputs": [
    {
     "name": "stdout",
     "output_type": "stream",
     "text": [
      "[False  True False  True False False  True  True  True  True  True False\n",
      "  True False  True  True  True  True  True  True False False False False\n",
      " False False False False False  True False False False  True False False\n",
      " False False False  True  True False False False False False False False]\n",
      "[30  1 14  1 22  9  1  1  1  1  1 24  1  3  1  1  1  1  1  1  2 12 13 15\n",
      " 16 23 26 27 28  1 29 21 17  1 20 10 19  7 31  1  1  4  5 11 25  6 18  8]\n"
     ]
    }
   ],
   "source": [
    "from sklearn.feature_selection import RFE\n",
    "from sklearn.linear_model import LogisticRegression\n",
    "\n",
    "model = LogisticRegression()\n",
    "rfe = RFE(model, 18)\n",
    "rfe = rfe.fit(df[X], df[y])\n",
    "print(rfe.support_)\n",
    "print(rfe.ranking_)"
   ]
  },
  {
   "cell_type": "code",
   "execution_count": 22,
   "metadata": {},
   "outputs": [],
   "source": [
    "df_log_fs = df.columns[[2,4,7,8,9,10,11,12,14,15,16,17,18,19,29,33,39,40]]"
   ]
  },
  {
   "cell_type": "code",
   "execution_count": 25,
   "metadata": {},
   "outputs": [
    {
     "data": {
      "text/plain": [
       "Index(['MON', 'AVRG', 'PKNIT_TOPS', 'PKNIT_DRES', 'PBLOUSES', 'PJACKETS',\n",
       "       'PCAR_PNTS', 'PCAS_PNTS', 'PDRESSES', 'PSUITS', 'POUTERWEAR',\n",
       "       'PJEWELRY', 'PFASHION', 'PLEGWEAR', 'GMP', 'MARKDOWN', 'VALPHON',\n",
       "       'WEB'],\n",
       "      dtype='object')"
      ]
     },
     "execution_count": 25,
     "metadata": {},
     "output_type": "execute_result"
    }
   ],
   "source": [
    "df_log_fs"
   ]
  },
  {
   "cell_type": "code",
   "execution_count": 23,
   "metadata": {},
   "outputs": [],
   "source": [
    "cols = ['MON', 'AVRG', 'PKNIT_TOPS', 'PKNIT_DRES', 'PBLOUSES', 'PJACKETS',\n",
    "       'PCAR_PNTS', 'PCAS_PNTS', 'PDRESSES', 'PSUITS', 'POUTERWEAR',\n",
    "       'PJEWELRY', 'PFASHION', 'PLEGWEAR', 'GMP', 'MARKDOWN', 'VALPHON',\n",
    "       'WEB']"
   ]
  },
  {
   "cell_type": "code",
   "execution_count": 28,
   "metadata": {},
   "outputs": [],
   "source": [
    "x = df[cols]\n",
    "y = df['RESP']"
   ]
  },
  {
   "cell_type": "code",
   "execution_count": 29,
   "metadata": {},
   "outputs": [
    {
     "data": {
      "text/plain": [
       "((21740, 18), (21740,))"
      ]
     },
     "execution_count": 29,
     "metadata": {},
     "output_type": "execute_result"
    }
   ],
   "source": [
    "x.shape, y.shape"
   ]
  },
  {
   "cell_type": "markdown",
   "metadata": {},
   "source": [
    "# Spliting Data"
   ]
  },
  {
   "cell_type": "code",
   "execution_count": 30,
   "metadata": {},
   "outputs": [],
   "source": [
    "#Split Dataset into Train and test\n",
    "from sklearn.model_selection import train_test_split\n",
    "\n",
    "x_train, x_test, y_train, y_test = train_test_split(x, y, test_size = 0.25, random_state = 42)"
   ]
  },
  {
   "cell_type": "code",
   "execution_count": 32,
   "metadata": {},
   "outputs": [],
   "source": [
    "# Importing Matrices for model Result\n",
    "from sklearn.metrics import accuracy_score, classification, classification_report, roc_auc_score, confusion_matrix"
   ]
  },
  {
   "cell_type": "markdown",
   "metadata": {},
   "source": [
    "# Applying Logistic Reggresion Model"
   ]
  },
  {
   "cell_type": "code",
   "execution_count": 33,
   "metadata": {},
   "outputs": [],
   "source": [
    "from sklearn.linear_model import LogisticRegression\n",
    "logreg = LogisticRegression()\n",
    "model = logreg.fit(x_train, y_train)\n",
    "predict = logreg.predict(x_test)"
   ]
  },
  {
   "cell_type": "markdown",
   "metadata": {},
   "source": [
    "# Cross Validation of Log Regression "
   ]
  },
  {
   "cell_type": "code",
   "execution_count": 34,
   "metadata": {},
   "outputs": [
    {
     "name": "stdout",
     "output_type": "stream",
     "text": [
      "10-fold cross validation average accuracy: 0.846\n"
     ]
    }
   ],
   "source": [
    "from sklearn import model_selection\n",
    "from sklearn.model_selection import cross_val_score\n",
    "lg_kfold = model_selection.KFold(n_splits=10, random_state=7)\n",
    "lg_modelCV = LogisticRegression()\n",
    "lr_scoring = 'accuracy'\n",
    "lg_results = model_selection.cross_val_score(lg_modelCV, x_train, y_train, cv=lg_kfold, scoring=lr_scoring)\n",
    "print(\"10-fold cross validation average accuracy: %.3f\" % (lg_results.mean()))"
   ]
  },
  {
   "cell_type": "code",
   "execution_count": 35,
   "metadata": {},
   "outputs": [
    {
     "name": "stdout",
     "output_type": "stream",
     "text": [
      "Logistic Regression Model Accuracy = 0.8456301747930082823856\n"
     ]
    }
   ],
   "source": [
    "model_accuracy = accuracy_score(y_test, predict)\n",
    "print('Logistic Regression Model Accuracy = %2.22f' % model_accuracy)"
   ]
  },
  {
   "cell_type": "code",
   "execution_count": 36,
   "metadata": {},
   "outputs": [
    {
     "name": "stdout",
     "output_type": "stream",
     "text": [
      "Logistic Regression Train Model Score = 0.8461208218337933351094\n"
     ]
    }
   ],
   "source": [
    "train_model_score = model.score(x_train, y_train) \n",
    "print('Logistic Regression Train Model Score = %2.22f' %train_model_score)"
   ]
  },
  {
   "cell_type": "code",
   "execution_count": 37,
   "metadata": {},
   "outputs": [
    {
     "name": "stdout",
     "output_type": "stream",
     "text": [
      "[[4433   70]\n",
      " [ 769  163]]\n"
     ]
    }
   ],
   "source": [
    "log_cm = confusion_matrix(y_test, predict)\n",
    "print(log_cm)"
   ]
  },
  {
   "cell_type": "code",
   "execution_count": 38,
   "metadata": {},
   "outputs": [
    {
     "data": {
      "image/png": "[encoded data removed]",
      "text/plain": [
       "<Figure size 432x288 with 1 Axes>"
      ]
     },
     "metadata": {
      "needs_background": "light"
     },
     "output_type": "display_data"
    }
   ],
   "source": [
    "#Graphical Representation of Confusion Matrix\n",
    "sns.heatmap(log_cm, annot=True, fmt='d', cbar=False,xticklabels = [\"Predictive No\", \" PredictiveYes\"] \n",
    "            , yticklabels = [\"Actual No\", \"Actual Yes\"])\n",
    "plt.xlabel('Predicted Values')\n",
    "plt.ylabel('Actual Values')\n",
    "plt.title('Confusion Matrix')\n",
    "plt.show()"
   ]
  },
  {
   "cell_type": "markdown",
   "metadata": {},
   "source": [
    "#### TP: these are the Values whish we predict YES and they actually respond\n",
    "#### TN: these are the values whch we predict NO and they actually not respond\n",
    "#### FP: these are the values which we predict YES but they dont actually respond\n",
    "#### FN: these are the values which we predict NO but the actually respond"
   ]
  },
  {
   "cell_type": "code",
   "execution_count": 39,
   "metadata": {},
   "outputs": [
    {
     "name": "stdout",
     "output_type": "stream",
     "text": [
      "Value of Actual No: 4503\n",
      "Value of Actual Yes: 932\n",
      "Value of Predictive No: 5202\n",
      "Value of Predictive Yes: 233\n"
     ]
    }
   ],
   "source": [
    "\n",
    "TN = 4433\n",
    "FP = 70\n",
    "TP = 163\n",
    "FN = 769\n",
    "Actual_No = TN + FP\n",
    "Actual_Yes = FN + TP\n",
    "Predictive_No = TN + FN\n",
    "Predictive_Yes = FP + TP\n",
    "print('Value of Actual No:',Actual_No)\n",
    "print('Value of Actual Yes:',Actual_Yes)\n",
    "print('Value of Predictive No:',Predictive_No)\n",
    "print('Value of Predictive Yes:',Predictive_Yes)"
   ]
  },
  {
   "cell_type": "code",
   "execution_count": 40,
   "metadata": {},
   "outputs": [
    {
     "name": "stdout",
     "output_type": "stream",
     "text": [
      "              precision    recall  f1-score   support\n",
      "\n",
      "           0       0.85      0.98      0.91      4503\n",
      "           1       0.70      0.17      0.28       932\n",
      "\n",
      "   micro avg       0.85      0.85      0.85      5435\n",
      "   macro avg       0.78      0.58      0.60      5435\n",
      "weighted avg       0.83      0.85      0.80      5435\n",
      "\n"
     ]
    }
   ],
   "source": [
    "log_cr = classification_report(y_test, predict)\n",
    "print(log_cr)"
   ]
  },
  {
   "cell_type": "code",
   "execution_count": 41,
   "metadata": {},
   "outputs": [
    {
     "name": "stdout",
     "output_type": "stream",
     "text": [
      "Logistic Regression ROC = 0.580\n"
     ]
    }
   ],
   "source": [
    "log_roc = roc_auc_score(y_test, predict)\n",
    "print('Logistic Regression ROC = %.3f' % log_roc)"
   ]
  },
  {
   "cell_type": "code",
   "execution_count": 42,
   "metadata": {},
   "outputs": [
    {
     "data": {
      "image/png": "[encoded data removed]",
      "text/plain": [
       "<Figure size 720x360 with 1 Axes>"
      ]
     },
     "metadata": {
      "needs_background": "light"
     },
     "output_type": "display_data"
    }
   ],
   "source": [
    "from sklearn.metrics import roc_curve\n",
    "log_fpr, log_tpr, log_thresholds = roc_curve(y_test, logreg.predict_proba(x_test)[:,1])\n",
    "\n",
    "plt.figure(figsize=(10, 5))\n",
    "\n",
    "# Plot Logistic Regression ROC\n",
    "plt.plot(log_fpr, log_tpr, label='Logistic Regression (area = %0.3f)' % log_roc)\n",
    "\n",
    "# Plot Base Rate ROC\n",
    "plt.plot([0,1], [0,1],label='Base Rate')\n",
    "\n",
    "plt.xlim([0.0, 1.0])\n",
    "plt.ylim([0.0, 1.05])\n",
    "plt.xlabel('False Positive Rate')\n",
    "plt.ylabel('True Positive Rate')\n",
    "plt.title('ROC Graph')\n",
    "plt.legend(loc=\"lower right\")\n",
    "plt.show()"
   ]
  },
  {
   "cell_type": "markdown",
   "metadata": {},
   "source": [
    "# Random Forest"
   ]
  },
  {
   "cell_type": "code",
   "execution_count": 43,
   "metadata": {},
   "outputs": [],
   "source": [
    "from sklearn.ensemble import RandomForestClassifier\n",
    "rf = RandomForestClassifier()\n",
    "rf_model = rf.fit(x_train, y_train)\n",
    "rf_predict = rf.predict(x_test)"
   ]
  },
  {
   "cell_type": "markdown",
   "metadata": {},
   "source": [
    "# Cross Validation of RF Model"
   ]
  },
  {
   "cell_type": "code",
   "execution_count": 44,
   "metadata": {},
   "outputs": [
    {
     "name": "stdout",
     "output_type": "stream",
     "text": [
      "10-fold cross validation average accuracy: 0.838\n"
     ]
    }
   ],
   "source": [
    "from sklearn import model_selection\n",
    "from sklearn.model_selection import cross_val_score\n",
    "rf_kfold = model_selection.KFold(n_splits=10, random_state=7)\n",
    "rf_modelCV = RandomForestClassifier()\n",
    "rf_scoring = 'accuracy'\n",
    "rf_results = model_selection.cross_val_score(rf_modelCV, x_train, y_train, cv=rf_kfold, scoring=rf_scoring)\n",
    "print(\"10-fold cross validation average accuracy: %.3f\" % (rf_results.mean()))"
   ]
  },
  {
   "cell_type": "code",
   "execution_count": 45,
   "metadata": {},
   "outputs": [
    {
     "name": "stdout",
     "output_type": "stream",
     "text": [
      "Random Forest Model Accuracy = 0.8373505059797607952277\n"
     ]
    }
   ],
   "source": [
    "rf_model_accuracy = accuracy_score(y_test, rf_predict)\n",
    "print('Random Forest Model Accuracy = %2.22f' % rf_model_accuracy)"
   ]
  },
  {
   "cell_type": "code",
   "execution_count": 46,
   "metadata": {},
   "outputs": [
    {
     "name": "stdout",
     "output_type": "stream",
     "text": [
      "Random Forest Train Model Score = 0.982\n"
     ]
    }
   ],
   "source": [
    "rf_train_model_score = rf_model.score(x_train, y_train) \n",
    "print('Random Forest Train Model Score = %.3f' %rf_train_model_score)"
   ]
  },
  {
   "cell_type": "code",
   "execution_count": 47,
   "metadata": {},
   "outputs": [
    {
     "name": "stdout",
     "output_type": "stream",
     "text": [
      "[[4370  133]\n",
      " [ 751  181]]\n"
     ]
    }
   ],
   "source": [
    "rf_cm = confusion_matrix(y_test, rf_predict)\n",
    "print(rf_cm)"
   ]
  },
  {
   "cell_type": "code",
   "execution_count": 48,
   "metadata": {},
   "outputs": [
    {
     "data": {
      "image/png": "[encoded data removed]",
      "text/plain": [
       "<Figure size 432x288 with 1 Axes>"
      ]
     },
     "metadata": {
      "needs_background": "light"
     },
     "output_type": "display_data"
    }
   ],
   "source": [
    "#Graphical Representation of Confusion Matrix\n",
    "sns.heatmap(rf_cm, annot=True, fmt='d', cbar=False,xticklabels = [\"Predictive No\", \" PredictiveYes\"] \n",
    "            , yticklabels = [\"Actual No\", \"Actual Yes\"])\n",
    "plt.title('Confusion Matrix')\n",
    "plt.show()"
   ]
  },
  {
   "cell_type": "code",
   "execution_count": 49,
   "metadata": {},
   "outputs": [
    {
     "name": "stdout",
     "output_type": "stream",
     "text": [
      "              precision    recall  f1-score   support\n",
      "\n",
      "           0       0.85      0.97      0.91      4503\n",
      "           1       0.58      0.19      0.29       932\n",
      "\n",
      "   micro avg       0.84      0.84      0.84      5435\n",
      "   macro avg       0.71      0.58      0.60      5435\n",
      "weighted avg       0.81      0.84      0.80      5435\n",
      "\n"
     ]
    }
   ],
   "source": [
    "rf_cr = classification_report(y_test, rf_predict)\n",
    "print(rf_cr)"
   ]
  },
  {
   "cell_type": "code",
   "execution_count": 50,
   "metadata": {},
   "outputs": [
    {
     "name": "stdout",
     "output_type": "stream",
     "text": [
      "Random Forest ROC = 0.582\n"
     ]
    }
   ],
   "source": [
    "rf_roc = roc_auc_score(y_test, rf_predict)\n",
    "print('Random Forest ROC = %.3f' % rf_roc)"
   ]
  },
  {
   "cell_type": "code",
   "execution_count": 51,
   "metadata": {},
   "outputs": [
    {
     "data": {
      "image/png": "[encoded data removed]",
      "text/plain": [
       "<Figure size 720x360 with 1 Axes>"
      ]
     },
     "metadata": {
      "needs_background": "light"
     },
     "output_type": "display_data"
    }
   ],
   "source": [
    "from sklearn.metrics import roc_curve\n",
    "rf_fpr, rf_tpr, rf_thresholds = roc_curve(y_test, rf.predict_proba(x_test)[:,1])\n",
    "\n",
    "plt.figure(figsize=(10, 5))\n",
    "\n",
    "\n",
    "\n",
    "# Plot Random Forest ROC\n",
    "plt.plot(rf_fpr, rf_tpr, label='Random Forest Classifier (area = %0.3f)' % rf_roc)\n",
    "\n",
    "\n",
    "# Plot Base Rate ROC\n",
    "plt.plot([0,1], [0,1],label='Base Rate')\n",
    "\n",
    "plt.xlim([0.0, 1.0])\n",
    "plt.ylim([0.0, 1.05])\n",
    "plt.xlabel('False Positive Rate')\n",
    "plt.ylabel('True Positive Rate')\n",
    "plt.title('ROC Graph')\n",
    "plt.legend(loc=\"lower right\")\n",
    "plt.show()"
   ]
  },
  {
   "cell_type": "markdown",
   "metadata": {},
   "source": [
    "# KNN Model"
   ]
  },
  {
   "cell_type": "code",
   "execution_count": 52,
   "metadata": {},
   "outputs": [],
   "source": [
    "from sklearn.neighbors import KNeighborsClassifier\n",
    "knn = KNeighborsClassifier()\n",
    "knn_model = knn.fit(x_train, y_train)\n",
    "knn_predict = knn.predict(x_test)"
   ]
  },
  {
   "cell_type": "markdown",
   "metadata": {},
   "source": [
    "# Cross Validation of KNN Model"
   ]
  },
  {
   "cell_type": "code",
   "execution_count": 53,
   "metadata": {},
   "outputs": [
    {
     "name": "stdout",
     "output_type": "stream",
     "text": [
      "10-fold cross validation average accuracy: 0.829\n"
     ]
    }
   ],
   "source": [
    "from sklearn import model_selection\n",
    "from sklearn.model_selection import cross_val_score\n",
    "knn_kfold = model_selection.KFold(n_splits=10, random_state=42)\n",
    "knn_modelCV = KNeighborsClassifier()\n",
    "knn_scoring = 'accuracy'\n",
    "knn_results = model_selection.cross_val_score(knn_modelCV, x_train, y_train, cv=knn_kfold, scoring=knn_scoring)\n",
    "print(\"10-fold cross validation average accuracy: %.3f\" % (knn_results.mean()))"
   ]
  },
  {
   "cell_type": "code",
   "execution_count": 54,
   "metadata": {},
   "outputs": [
    {
     "name": "stdout",
     "output_type": "stream",
     "text": [
      "K-NN Model Accuracy = 0.830\n"
     ]
    }
   ],
   "source": [
    "knn_model_accuracy = accuracy_score(y_test, knn_predict)\n",
    "print('K-NN Model Accuracy = %.3f' % knn_model_accuracy)"
   ]
  },
  {
   "cell_type": "code",
   "execution_count": 55,
   "metadata": {},
   "outputs": [
    {
     "name": "stdout",
     "output_type": "stream",
     "text": [
      "k-NN Train Model Score = 0.872\n"
     ]
    }
   ],
   "source": [
    "knn_train_model_score = knn_model.score(x_train, y_train) \n",
    "print('k-NN Train Model Score = %.3f' %knn_train_model_score)"
   ]
  },
  {
   "cell_type": "code",
   "execution_count": 56,
   "metadata": {},
   "outputs": [
    {
     "name": "stdout",
     "output_type": "stream",
     "text": [
      "[[4253  250]\n",
      " [ 672  260]]\n"
     ]
    }
   ],
   "source": [
    "knn_cm = confusion_matrix(y_test, knn_predict)\n",
    "print(knn_cm)"
   ]
  },
  {
   "cell_type": "code",
   "execution_count": 57,
   "metadata": {},
   "outputs": [
    {
     "data": {
      "image/png": "[encoded data removed]",
      "text/plain": [
       "<Figure size 432x288 with 1 Axes>"
      ]
     },
     "metadata": {
      "needs_background": "light"
     },
     "output_type": "display_data"
    }
   ],
   "source": [
    "#Graphical Representation of Confusion Matrix\n",
    "sns.heatmap(knn_cm, annot=True, fmt='d', cbar=False)\n",
    "plt.title('Confusion Matrix')\n",
    "plt.show()"
   ]
  },
  {
   "cell_type": "code",
   "execution_count": 58,
   "metadata": {},
   "outputs": [
    {
     "name": "stdout",
     "output_type": "stream",
     "text": [
      "              precision    recall  f1-score   support\n",
      "\n",
      "           0       0.86      0.94      0.90      4503\n",
      "           1       0.51      0.28      0.36       932\n",
      "\n",
      "   micro avg       0.83      0.83      0.83      5435\n",
      "   macro avg       0.69      0.61      0.63      5435\n",
      "weighted avg       0.80      0.83      0.81      5435\n",
      "\n"
     ]
    }
   ],
   "source": [
    "knn_cr = classification_report(y_test, knn_predict)\n",
    "print(knn_cr)"
   ]
  },
  {
   "cell_type": "code",
   "execution_count": 59,
   "metadata": {},
   "outputs": [
    {
     "name": "stdout",
     "output_type": "stream",
     "text": [
      "KNN ROC = 0.612\n"
     ]
    }
   ],
   "source": [
    "knn_roc = roc_auc_score(y_test, knn_predict)\n",
    "print('KNN ROC = %.3f' % knn_roc)"
   ]
  },
  {
   "cell_type": "code",
   "execution_count": 60,
   "metadata": {},
   "outputs": [
    {
     "data": {
      "image/png": "[encoded data removed]",
      "text/plain": [
       "<Figure size 720x360 with 1 Axes>"
      ]
     },
     "metadata": {
      "needs_background": "light"
     },
     "output_type": "display_data"
    }
   ],
   "source": [
    "from sklearn.metrics import roc_curve\n",
    "knn_fpr, knn_tpr, knn_thresholds = roc_curve(y_test, knn.predict_proba(x_test)[:,1])\n",
    "\n",
    "\n",
    "\n",
    "plt.figure(figsize=(10, 5))\n",
    "\n",
    "\n",
    "# Plot Knn ROC\n",
    "plt.plot(knn_fpr, knn_tpr, label='K-NN (area = %0.3f)' % knn_roc)\n",
    "\n",
    "# Plot Base Rate ROC\n",
    "plt.plot([0,1], [0,1],label='Base Rate')\n",
    "\n",
    "plt.xlim([0.0, 1.0])\n",
    "plt.ylim([0.0, 1.05])\n",
    "plt.xlabel('False Positive Rate')\n",
    "plt.ylabel('True Positive Rate')\n",
    "plt.title('ROC Graph')\n",
    "plt.legend(loc=\"lower right\")\n",
    "plt.show()"
   ]
  },
  {
   "cell_type": "markdown",
   "metadata": {},
   "source": [
    "# Gradient Boosting Model"
   ]
  },
  {
   "cell_type": "code",
   "execution_count": 61,
   "metadata": {},
   "outputs": [],
   "source": [
    "from sklearn.ensemble import GradientBoostingClassifier\n",
    "\n",
    "gbc = GradientBoostingClassifier()\n",
    "gbc_model = gbc.fit(x_train, y_train)\n",
    "gbc_predict = gbc.predict(x_test)"
   ]
  },
  {
   "cell_type": "markdown",
   "metadata": {},
   "source": [
    "# Cross Validation of Gradient Boosting Model"
   ]
  },
  {
   "cell_type": "code",
   "execution_count": 62,
   "metadata": {},
   "outputs": [
    {
     "name": "stdout",
     "output_type": "stream",
     "text": [
      "10-fold cross validation average accuracy: 0.848\n"
     ]
    }
   ],
   "source": [
    "from sklearn import model_selection\n",
    "from sklearn.model_selection import cross_val_score\n",
    "gbc_kfold = model_selection.KFold(n_splits=10, random_state=42)\n",
    "gbc_modelCV = GradientBoostingClassifier()\n",
    "gbc_scoring = 'accuracy'\n",
    "gbc_results = model_selection.cross_val_score(gbc_modelCV, x_train, y_train, cv=gbc_kfold, scoring=gbc_scoring)\n",
    "print(\"10-fold cross validation average accuracy: %.3f\" % (gbc_results.mean()))"
   ]
  },
  {
   "cell_type": "code",
   "execution_count": 63,
   "metadata": {},
   "outputs": [
    {
     "name": "stdout",
     "output_type": "stream",
     "text": [
      "GBC Model Accuracy = 0.847\n"
     ]
    }
   ],
   "source": [
    "gbc_model_accuracy = accuracy_score(y_test, gbc_predict)\n",
    "print('GBC Model Accuracy = %.3f' % gbc_model_accuracy)"
   ]
  },
  {
   "cell_type": "code",
   "execution_count": 64,
   "metadata": {},
   "outputs": [
    {
     "name": "stdout",
     "output_type": "stream",
     "text": [
      "GBC Train Model Score = 0.858\n"
     ]
    }
   ],
   "source": [
    "gbc_train_model_score = gbc_model.score(x_train, y_train) \n",
    "print('GBC Train Model Score = %.3f' %gbc_train_model_score)"
   ]
  },
  {
   "cell_type": "code",
   "execution_count": 65,
   "metadata": {},
   "outputs": [
    {
     "name": "stdout",
     "output_type": "stream",
     "text": [
      "[[4384  119]\n",
      " [ 714  218]]\n"
     ]
    }
   ],
   "source": [
    "gbc_cm = confusion_matrix(y_test, gbc_predict)\n",
    "print(gbc_cm)"
   ]
  },
  {
   "cell_type": "code",
   "execution_count": 66,
   "metadata": {},
   "outputs": [
    {
     "data": {
      "image/png": "[encoded data removed]",
      "text/plain": [
       "<Figure size 432x288 with 1 Axes>"
      ]
     },
     "metadata": {
      "needs_background": "light"
     },
     "output_type": "display_data"
    }
   ],
   "source": [
    "#Graphical Representation of Confusion Matrix\n",
    "sns.heatmap(gbc_cm, annot=True, fmt='d', cbar=False)\n",
    "plt.title('Confusion Matrix')\n",
    "plt.show()"
   ]
  },
  {
   "cell_type": "code",
   "execution_count": 67,
   "metadata": {},
   "outputs": [
    {
     "name": "stdout",
     "output_type": "stream",
     "text": [
      "              precision    recall  f1-score   support\n",
      "\n",
      "           0       0.86      0.97      0.91      4503\n",
      "           1       0.65      0.23      0.34       932\n",
      "\n",
      "   micro avg       0.85      0.85      0.85      5435\n",
      "   macro avg       0.75      0.60      0.63      5435\n",
      "weighted avg       0.82      0.85      0.82      5435\n",
      "\n"
     ]
    }
   ],
   "source": [
    "gbc_cr = classification_report(y_test, gbc_predict)\n",
    "print(gbc_cr)"
   ]
  },
  {
   "cell_type": "code",
   "execution_count": 68,
   "metadata": {},
   "outputs": [
    {
     "name": "stdout",
     "output_type": "stream",
     "text": [
      "GBC ROC = 0.604\n"
     ]
    }
   ],
   "source": [
    "gbc_roc = roc_auc_score(y_test, gbc_predict)\n",
    "print('GBC ROC = %.3f' % gbc_roc)"
   ]
  },
  {
   "cell_type": "code",
   "execution_count": 69,
   "metadata": {},
   "outputs": [
    {
     "data": {
      "image/png": "[encoded data removed]",
      "text/plain": [
       "<Figure size 720x360 with 1 Axes>"
      ]
     },
     "metadata": {
      "needs_background": "light"
     },
     "output_type": "display_data"
    }
   ],
   "source": [
    "from sklearn.metrics import roc_curve\n",
    "gbc_fpr, gbc_tpr, gbc_thresholds = roc_curve(y_test, gbc.predict_proba(x_test)[:,1])\n",
    "\n",
    "\n",
    "plt.figure(figsize=(10, 5))\n",
    "\n",
    "# Plot Decision Tree ROC\n",
    "plt.plot(gbc_fpr, gbc_tpr, label='Gradient Boosting Classifier (area = %0.3f)' % gbc_roc)\n",
    "\n",
    "# Plot Base Rate ROC\n",
    "plt.plot([0,1], [0,1],label='Base Rate')\n",
    "\n",
    "plt.xlim([0.0, 1.0])\n",
    "plt.ylim([0.0, 1.05])\n",
    "plt.xlabel('False Positive Rate')\n",
    "plt.ylabel('True Positive Rate')\n",
    "plt.title('ROC Graph')\n",
    "plt.legend(loc=\"lower right\")\n",
    "plt.show()"
   ]
  },
  {
   "cell_type": "markdown",
   "metadata": {},
   "source": [
    "# ROC Curve"
   ]
  },
  {
   "cell_type": "code",
   "execution_count": 70,
   "metadata": {},
   "outputs": [
    {
     "data": {
      "image/png": "[encoded data removed]",
      "text/plain": [
       "<Figure size 720x360 with 1 Axes>"
      ]
     },
     "metadata": {
      "needs_background": "light"
     },
     "output_type": "display_data"
    }
   ],
   "source": [
    "from sklearn.metrics import roc_curve\n",
    "log_fpr, log_tpr, log_thresholds = roc_curve(y_test, logreg.predict_proba(x_test)[:,1])\n",
    "rf_fpr, rf_tpr, rf_thresholds = roc_curve(y_test, rf.predict_proba(x_test)[:,1])\n",
    "knn_fpr, knn_tpr, knn_thresholds = roc_curve(y_test, knn.predict_proba(x_test)[:,1])\n",
    "gbc_fpr, gbc_tpr, gbc_thresholds = roc_curve(y_test, gbc.predict_proba(x_test)[:,1])\n",
    "\n",
    "\n",
    "plt.figure(figsize=(10, 5))\n",
    "\n",
    "# Plot Logistic Regression ROC\n",
    "plt.plot(log_fpr, log_tpr, label='Logistic Regression (area = %0.3f)' % log_roc)\n",
    "\n",
    "# Plot Random Forest ROC\n",
    "plt.plot(rf_fpr, rf_tpr, label='Random Forest Classifier (area = %0.3f)' % rf_roc)\n",
    "\n",
    "# Plot Knn ROC\n",
    "plt.plot(knn_fpr, knn_tpr, label='K-NN (area = %0.3f)' % knn_roc)\n",
    "\n",
    "# Plot Decision Tree ROC\n",
    "plt.plot(gbc_fpr, gbc_tpr, label='Gradient Boosting Classifier (area = %0.3f)' % gbc_roc)\n",
    "\n",
    "# Plot Base Rate ROC\n",
    "plt.plot([0,1], [0,1],label='Base Rate')\n",
    "\n",
    "plt.xlim([0.0, 1.0])\n",
    "plt.ylim([0.0, 1.05])\n",
    "plt.xlabel('False Positive Rate')\n",
    "plt.ylabel('True Positive Rate')\n",
    "plt.title('ROC Graph')\n",
    "plt.legend(loc=\"lower right\")\n",
    "plt.show()"
   ]
  },
  {
   "cell_type": "code",
   "execution_count": null,
   "metadata": {},
   "outputs": [],
   "source": []
  }
 ],
 "metadata": {
  "kernelspec": {
   "display_name": "Python 3",
   "language": "python",
   "name": "python3"
  },
  "language_info": {
   "codemirror_mode": {
    "name": "ipython",
    "version": 3
   },
   "file_extension": ".py",
   "mimetype": "text/x-python",
   "name": "python",
   "nbconvert_exporter": "python",
   "pygments_lexer": "ipython3",
   "version": "3.7.3"
  }
 },
 "nbformat": 4,
 "nbformat_minor": 2
}
